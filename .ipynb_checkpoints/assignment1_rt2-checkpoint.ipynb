{
 "cells": [
  {
   "cell_type": "code",
   "execution_count": 1,
   "id": "5b8f2684",
   "metadata": {
    "ExecuteTime": {
     "end_time": "2022-05-25T16:47:06.600225Z",
     "start_time": "2022-05-25T16:47:05.303224Z"
    }
   },
   "outputs": [],
   "source": [
    "%matplotlib widget\n",
    "\n",
    "from IPython.display import display\n",
    "from ipywidgets import Button, Layout, ButtonStyle, GridBox, VBox, HBox, interact, widgets, interactive, fixed, interact_manual\n",
    "import ipywidgets as widgets\n",
    "from jupyros import ros3d\n",
    "import os\n",
    "import rospy\n",
    "import actionlib\n",
    "from move_base_msgs.msg import MoveBaseGoal, MoveBaseAction, MoveBaseResult\n",
    "from __future__ import print_function\n",
    "from geometry_msgs.msg import Twist\n",
    "from sensor_msgs.msg import LaserScan\n",
    "import math\n",
    "\n",
    "import matplotlib.pyplot as plt\n",
    "import tf\n",
    "from nav_msgs.msg import Odometry\n",
    "from tf.transformations import quaternion_matrix\n",
    "import numpy as np\n",
    "import matplotlib.animation\n",
    "from matplotlib.animation import FuncAnimation\n",
    "import matplotlib.pyplot as plt\n",
    "\n",
    "from mpl_toolkits.mplot3d import Axes3D\n",
    "import pandas as pd\n",
    "from dataclasses import dataclass\n",
    "from std_msgs.msg import Int32\n",
    "\n",
    "rospy.init_node('controllinggame', anonymous=True)"
   ]
  },
  {
   "cell_type": "code",
   "execution_count": 1,
   "id": "bb8ec9ac",
   "metadata": {
    "ExecuteTime": {
     "end_time": "2022-05-25T21:07:48.490289Z",
     "start_time": "2022-05-25T21:07:48.485712Z"
    }
   },
   "outputs": [
    {
     "name": "stdout",
     "output_type": "stream",
     "text": [
      "In this simulation you can find three different modality:the first one is the automatic control of a robot only with putting the coordinates; the second one is a manual control with buttons; the third one is an avoiding assitance for the manual control.\n"
     ]
    }
   ],
   "source": [
    "print('In this simulation you can find three different modality:'\n",
    "          'the first one is the automatic control of a robot only with putting the coordinates; '\n",
    "          'the second one is a manual control with buttons; '\n",
    "          'the third one is an avoiding assitance for the manual control.'\n",
    "         )"
   ]
  },
  {
   "cell_type": "code",
   "execution_count": 2,
   "id": "3de6d8d8",
   "metadata": {
    "ExecuteTime": {
     "end_time": "2022-05-25T21:07:54.522612Z",
     "start_time": "2022-05-25T21:07:54.447080Z"
    },
    "scrolled": false
   },
   "outputs": [
    {
     "ename": "NameError",
     "evalue": "name 'widgets' is not defined",
     "output_type": "error",
     "traceback": [
      "\u001b[0;31m---------------------------------------------------------------------------\u001b[0m",
      "\u001b[0;31mNameError\u001b[0m                                 Traceback (most recent call last)",
      "\u001b[0;32m/tmp/ipykernel_2091/3291009823.py\u001b[0m in \u001b[0;36m<module>\u001b[0;34m\u001b[0m\n\u001b[1;32m      1\u001b[0m \u001b[0;31m#widgets for selection the modalities\u001b[0m\u001b[0;34m\u001b[0m\u001b[0;34m\u001b[0m\u001b[0;34m\u001b[0m\u001b[0m\n\u001b[0;32m----> 2\u001b[0;31m a=widgets.Select(\n\u001b[0m\u001b[1;32m      3\u001b[0m     \u001b[0moptions\u001b[0m\u001b[0;34m=\u001b[0m\u001b[0;34m[\u001b[0m\u001b[0;34m'instruction'\u001b[0m\u001b[0;34m,\u001b[0m \u001b[0;34m'modality 1'\u001b[0m\u001b[0;34m,\u001b[0m \u001b[0;34m'modality 2'\u001b[0m\u001b[0;34m,\u001b[0m \u001b[0;34m'modality 3'\u001b[0m\u001b[0;34m]\u001b[0m\u001b[0;34m,\u001b[0m\u001b[0;34m\u001b[0m\u001b[0;34m\u001b[0m\u001b[0m\n\u001b[1;32m      4\u001b[0m     \u001b[0mvalue\u001b[0m\u001b[0;34m=\u001b[0m\u001b[0;34m'instruction'\u001b[0m\u001b[0;34m,\u001b[0m\u001b[0;34m\u001b[0m\u001b[0;34m\u001b[0m\u001b[0m\n\u001b[1;32m      5\u001b[0m     \u001b[0;31m# rows=10,\u001b[0m\u001b[0;34m\u001b[0m\u001b[0;34m\u001b[0m\u001b[0;34m\u001b[0m\u001b[0m\n",
      "\u001b[0;31mNameError\u001b[0m: name 'widgets' is not defined"
     ]
    }
   ],
   "source": [
    "#widgets for selection the modalities\n",
    "a=widgets.Select(\n",
    "    options=['instruction', 'modality 1', 'modality 2', 'modality 3'],\n",
    "    value='instruction',\n",
    "    # rows=10,\n",
    "    description='modaility:',\n",
    "    disabled=False\n",
    ")\n",
    "output=widgets.Output()\n",
    "display(a, output)"
   ]
  },
  {
   "cell_type": "code",
   "execution_count": 3,
   "id": "0e6be80f",
   "metadata": {
    "ExecuteTime": {
     "end_time": "2022-05-25T16:47:06.795125Z",
     "start_time": "2022-05-25T16:47:06.790004Z"
    }
   },
   "outputs": [],
   "source": [
    "#function for watching the modality\n",
    "def mod(change):\n",
    "    \n",
    "    a.value=change.new\n",
    "    \n",
    "    if a.value=='instruction':\n",
    "        \n",
    "        istruzioni()\n",
    "        \n",
    "    if a.value == 'modality 1':\n",
    "        #print('ok 1')\n",
    "       \n",
    "        incomingone()\n",
    "        \n",
    "    if a.value== 'modality 2':\n",
    "        #print('ok 2')\n",
    "      \n",
    "        moda2()\n",
    "        \n",
    "    if a.value == 'modality 3':\n",
    "        #print('ok3')\n",
    "        \n",
    "        thirdmod()\n",
    "        \n",
    "\n",
    "\n",
    "a.observe(mod, names='value')"
   ]
  },
  {
   "cell_type": "code",
   "execution_count": null,
   "id": "a93be3c9",
   "metadata": {
    "ExecuteTime": {
     "end_time": "2022-05-25T14:20:48.562526Z",
     "start_time": "2022-05-25T14:20:48.558367Z"
    }
   },
   "outputs": [],
   "source": [
    "#first function, to give the instructions\n",
    "def istruzioni():\n",
    "    print('In this simulation you can find three different modality:'\n",
    "          'the first one is the automatic control of a robot only with putting the coordinates; '\n",
    "          'the second one is a manual control with buttons; '\n",
    "          'the third one is an avoiding assitance for the manual control.'\n",
    "         )"
   ]
  },
  {
   "cell_type": "code",
   "execution_count": null,
   "id": "b43542dd",
   "metadata": {
    "ExecuteTime": {
     "end_time": "2022-05-25T14:02:40.366087Z",
     "start_time": "2022-05-25T14:02:40.307315Z"
    },
    "scrolled": true
   },
   "outputs": [],
   "source": [
    "#to give the simulation also from the jupyter notebook\n",
    "v = ros3d.Viewer()\n",
    "rc = ros3d.ROSConnection(url=\"ws://localhost:9090\")\n",
    "tf_client = ros3d.TFClient(ros=rc, fixed_frame='map')\n",
    "laser_view = ros3d.LaserScan(topic=\"/scan\", ros=rc, tf_client=tf_client)\n",
    "map_view = ros3d.OccupancyGrid(topic=\"/map\", ros=rc, tf_client=tf_client)\n",
    "path = ros3d.Path(topic=\"/move_base/NavfnROS/plan\", ros=rc, \n",
    "tf_client=tf_client)\n",
    "urdf = ros3d.URDFModel(ros=rc, tf_client=tf_client, \n",
    "path=os.environ.get('JUPYROS_ASSETS_URL', 'http://localhost:3000'))\n",
    "g = ros3d.GridModel()\n",
    "v.objects = [g, laser_view, map_view, path, urdf]\n",
    "v"
   ]
  },
  {
   "cell_type": "markdown",
   "id": "d2fd7754",
   "metadata": {},
   "source": [
    "modality one"
   ]
  },
  {
   "cell_type": "code",
   "execution_count": 4,
   "id": "431065c7",
   "metadata": {
    "ExecuteTime": {
     "end_time": "2022-05-25T16:47:09.389244Z",
     "start_time": "2022-05-25T16:47:09.368590Z"
    }
   },
   "outputs": [],
   "source": [
    "#widgets for the coordinates\n",
    "x_dest= widgets.FloatText(\n",
    "        value=0.0,\n",
    "        description='x destination:',\n",
    "        disabled=False\n",
    "        )\n",
    "y_dest=widgets.FloatText(\n",
    "        value=0.0,\n",
    "        description='y destination:',\n",
    "        disabled=False\n",
    "        )\n",
    "output2=widgets.Output()"
   ]
  },
  {
   "cell_type": "code",
   "execution_count": 5,
   "id": "5ff28168",
   "metadata": {
    "ExecuteTime": {
     "end_time": "2022-05-25T16:47:09.863951Z",
     "start_time": "2022-05-25T16:47:09.848055Z"
    }
   },
   "outputs": [],
   "source": [
    "#widgets for confirm the coordinates\n",
    "req=widgets.RadioButtons(\n",
    "    options=['yes', 'no'],\n",
    "    value='yes',\n",
    "#    layout={'width': 'max-content'}, # If the items' names are long\n",
    "    description='Do you want to change coordinates?',\n",
    "    disabled=False\n",
    "    )\n",
    "\n",
    "output3=widgets.Output()"
   ]
  },
  {
   "cell_type": "code",
   "execution_count": 6,
   "id": "73a1166c",
   "metadata": {
    "ExecuteTime": {
     "end_time": "2022-05-25T16:47:10.303395Z",
     "start_time": "2022-05-25T16:47:10.277776Z"
    }
   },
   "outputs": [],
   "source": [
    "#widget for starting the application\n",
    "start = widgets.Button(description='START',\n",
    "    layout=Layout(width='auto', align=\"center\", grid_area='START'),\n",
    "    style=ButtonStyle(button_color='red'))\n",
    "\n",
    "output4=widgets.Output()"
   ]
  },
  {
   "cell_type": "code",
   "execution_count": 7,
   "id": "8728bd55",
   "metadata": {
    "ExecuteTime": {
     "end_time": "2022-05-25T16:47:10.772771Z",
     "start_time": "2022-05-25T16:47:10.768105Z"
    }
   },
   "outputs": [],
   "source": [
    "#functions for changing the value of the coordinates\n",
    "def changex(change):\n",
    "    global x\n",
    "    x_dest.value=change.new\n",
    "    x=x_dest\n",
    "    \n",
    "    #print('preso x ', x.value)\n",
    "    \n",
    "def changey(change):\n",
    "    global y\n",
    "    y_dest.value=change.new\n",
    "    y=y_dest\n",
    "    \n",
    "    #print('preso y ', y.value)\n",
    "\n",
    "rc=0\n",
    "nrc=0\n",
    "x=0.0\n",
    "y=0.0\n",
    "x_dest.observe(changex, names='value')\n",
    "y_dest.observe(changey, names='value')"
   ]
  },
  {
   "cell_type": "code",
   "execution_count": 8,
   "id": "b8775812",
   "metadata": {
    "ExecuteTime": {
     "end_time": "2022-05-25T16:47:11.211590Z",
     "start_time": "2022-05-25T16:47:11.198810Z"
    }
   },
   "outputs": [],
   "source": [
    "#function for changing the confirmation\n",
    "def changereq(change):\n",
    "    global req\n",
    "    req.value=change.new\n",
    "    #print('preso req')\n",
    "    \n",
    "req.observe(changereq, names='value')"
   ]
  },
  {
   "cell_type": "code",
   "execution_count": 9,
   "id": "23771512",
   "metadata": {
    "ExecuteTime": {
     "end_time": "2022-05-25T16:47:11.658574Z",
     "start_time": "2022-05-25T16:47:11.654389Z"
    }
   },
   "outputs": [],
   "source": [
    "#function for watching the start button\n",
    "def press(b):\n",
    "    global rc\n",
    "    with output4:   \n",
    "        result = movebase_client()\n",
    "        \n",
    "        if result:\n",
    "            rc=rc+1\n",
    "            print(\"I'm here! If you want going somewere else, insert the destination!\")\n",
    "           \n",
    "        \n",
    "start.on_click(press) "
   ]
  },
  {
   "cell_type": "code",
   "execution_count": 10,
   "id": "30a08834",
   "metadata": {
    "ExecuteTime": {
     "end_time": "2022-05-25T16:47:12.120512Z",
     "start_time": "2022-05-25T16:47:12.101932Z"
    }
   },
   "outputs": [],
   "source": [
    "#widget for the confirmation button\n",
    "confirm=widgets.Button(description='CONFIRM',\n",
    "    layout=Layout(width='auto', align=\"center\", grid_area='CONFIRM'),\n",
    "    style=ButtonStyle(button_color='red'))\n",
    "\n",
    "output5=widgets.Output()"
   ]
  },
  {
   "cell_type": "code",
   "execution_count": 11,
   "id": "b1685179",
   "metadata": {
    "ExecuteTime": {
     "end_time": "2022-05-25T16:47:12.580649Z",
     "start_time": "2022-05-25T16:47:12.574988Z"
    }
   },
   "outputs": [],
   "source": [
    "#with the confirmation\n",
    "def yep():\n",
    "    client.cancel_goal()\n",
    "    print('reinsert the coordinates and repress the START button')\n",
    "    \n",
    "def conf(b):\n",
    "    global req, nrc\n",
    "    with output5:\n",
    "        i=0\n",
    "        \n",
    "        while i==0:\n",
    "            if req.value=='yes':\n",
    "                yep()\n",
    "                i=i+1\n",
    "            elif req.value=='no':\n",
    "                print('...please wait...')\n",
    "                wait2 = client.wait_for_result(timeout=rospy.Duration(45.0))\n",
    "                if not wait2:\n",
    "                    print(\"Unfortunatly the position can't be reached\")\n",
    "                    nrc=nrc+1\n",
    "                    client.cancel_goal()\n",
    "                    print('If you want to play more, insert the coordiantes and START again!')\n",
    "                i=i+1\n",
    "            \n",
    "            \n",
    "\n",
    "confirm.on_click(conf)"
   ]
  },
  {
   "cell_type": "code",
   "execution_count": 12,
   "id": "bad40cf4",
   "metadata": {
    "ExecuteTime": {
     "end_time": "2022-05-25T16:47:12.969218Z",
     "start_time": "2022-05-25T16:47:12.961918Z"
    }
   },
   "outputs": [],
   "source": [
    "#funzione per far partire la prima modalità\n",
    "def incomingone():\n",
    "    #rospy.init_node('mod1', anonymous=True, disable_signals=False)\n",
    "    print('insert the coordinates where you want to go then press the START button')\n",
    "       \n",
    "    display(x_dest,y_dest,output2)\n",
    "    display(start, output4)"
   ]
  },
  {
   "cell_type": "code",
   "execution_count": 13,
   "id": "4a3a72dd",
   "metadata": {
    "ExecuteTime": {
     "end_time": "2022-05-25T16:47:13.445333Z",
     "start_time": "2022-05-25T16:47:13.419359Z"
    }
   },
   "outputs": [],
   "source": [
    "#the first modality\n",
    "\n",
    "client = actionlib.SimpleActionClient('move_base', MoveBaseAction)\n",
    "\n",
    "def movebase_client():\n",
    "    global x,y, req\n",
    "    #print('vediamo')    \n",
    "    client.wait_for_server()\n",
    "    goal = MoveBaseGoal()\n",
    "    goal.target_pose.header.frame_id= \"map\"\n",
    "    goal.target_pose.pose.orientation.w= 1.0\n",
    "    goal.target_pose.pose.position.x=x.value\n",
    "    goal.target_pose.pose.position.y=y.value\n",
    "    goal.target_pose.header.stamp = rospy.Time.now()\n",
    "    \n",
    "    client.send_goal(goal)\n",
    "    \n",
    "    print('I am moving')\n",
    "    \n",
    "    wait = client.wait_for_result(timeout=rospy.Duration(45.0))\n",
    "    if not wait:\n",
    "        display(req,output3)\n",
    "        display(confirm, output5)\n",
    "    else:   \n",
    "        return client.get_result()    "
   ]
  },
  {
   "cell_type": "markdown",
   "id": "43de8266",
   "metadata": {},
   "source": [
    "modality 2"
   ]
  },
  {
   "cell_type": "code",
   "execution_count": null,
   "id": "41f006a7",
   "metadata": {
    "ExecuteTime": {
     "end_time": "2022-05-25T16:01:05.051393Z",
     "start_time": "2022-05-25T16:01:04.987644Z"
    }
   },
   "outputs": [],
   "source": [
    "#widgets for controlling manually the robot\n",
    "b1 = widgets.Button(description='ahead',\n",
    "layout=Layout(width='auto', align=\"center\", grid_area='b1'),\n",
    "style=ButtonStyle(button_color='lightblue'))\n",
    "b2 = widgets.Button(description='back',\n",
    "layout=Layout(width='auto', grid_area='b2'),\n",
    "style=ButtonStyle(button_color='lightblue'))\n",
    "b3 = widgets.Button(description='stop',\n",
    "layout=Layout(width='auto', grid_area='b3'),\n",
    "style=ButtonStyle(button_color='lightblue'))\n",
    "b4 = widgets.Button(description='turn left',\n",
    "layout=Layout(width='auto', grid_area='b4'),\n",
    "style=ButtonStyle(button_color='lightblue'))\n",
    "b5 = widgets.Button(description='turn right',\n",
    "layout=Layout(width='auto', grid_area='b5'),\n",
    "style=ButtonStyle(button_color='lightblue'))\n",
    "\n",
    "a = GridBox(children=[b1, b2, b3, b4, b5],\n",
    "layout=Layout(\n",
    "width='40%',\n",
    "grid_template_rows='auto auto',\n",
    "grid_template_columns='33% 33% 33%',\n",
    "grid_template_areas='''\n",
    "\" . b5 . \"\n",
    "\"b2 b3 b1 \"\n",
    "\" . b4 . \"\n",
    "''')\n",
    ")\n",
    "\n",
    "twoout=widgets.Output()\n"
   ]
  },
  {
   "cell_type": "code",
   "execution_count": null,
   "id": "a61827f5",
   "metadata": {
    "ExecuteTime": {
     "end_time": "2022-05-25T16:01:05.205022Z",
     "start_time": "2022-05-25T16:01:05.192183Z"
    }
   },
   "outputs": [],
   "source": [
    "#definition of the actions\n",
    "\n",
    "def ahead(b):\n",
    "    global linear, angular\n",
    "    with twoout:\n",
    "        print(\"ahead!\")\n",
    "        vel.linear.x=linear+1\n",
    "        vel.angular.z=0\n",
    "        pub.publish(vel)\n",
    "        \n",
    "def back(b):\n",
    "    global linear, angular\n",
    "    with twoout:\n",
    "        print(\"back!\")\n",
    "        vel.linear.x=linear-1\n",
    "        vel.angular.z=0\n",
    "        pub.publish(vel)\n",
    "        \n",
    "def stop(b):\n",
    "    global linear, angular\n",
    "    with twoout:\n",
    "        print(\"stop!\")\n",
    "        vel.linear.x=0\n",
    "        vel.angular.z=0\n",
    "        pub.publish(vel)\n",
    "        \n",
    "def tr(b):\n",
    "    global linear, angular\n",
    "    with twoout:\n",
    "        print(\"turn right!\")\n",
    "        vel.angular.z=angular-1\n",
    "        vel.linear.x=0\n",
    "        pub.publish(vel)\n",
    "        \n",
    "def tl(b):\n",
    "    global linear, angular\n",
    "    with twoout:\n",
    "        print(\"turn left!\")\n",
    "        vel.angular.z=angular+1\n",
    "        vel.linear.x=0\n",
    "        pub.publish(vel)"
   ]
  },
  {
   "cell_type": "code",
   "execution_count": null,
   "id": "9352adce",
   "metadata": {
    "ExecuteTime": {
     "end_time": "2022-05-25T16:01:05.448959Z",
     "start_time": "2022-05-25T16:01:05.434131Z"
    }
   },
   "outputs": [],
   "source": [
    "#modality two\n",
    "linear=0.0\n",
    "angular=0.0\n",
    "\n",
    "\n",
    "def VelocityCallback(msg):\n",
    "    global linear,angular\n",
    "    linear = msg.linear.x\n",
    "    angular = msg.angular.z\n",
    "    #print('okok')\n",
    "        \n",
    "\n",
    "            \n",
    "sub_vel=rospy.Subscriber('/cmd_vel', Twist, VelocityCallback)\n",
    "pub = rospy.Publisher('/cmd_vel', Twist, queue_size=10)\n",
    "vel=Twist()"
   ]
  },
  {
   "cell_type": "code",
   "execution_count": null,
   "id": "1f1d7aea",
   "metadata": {
    "ExecuteTime": {
     "end_time": "2022-05-25T16:01:05.625326Z",
     "start_time": "2022-05-25T16:01:05.618564Z"
    }
   },
   "outputs": [],
   "source": [
    "#to let start the second modality\n",
    "def moda2():\n",
    "    #rospy.init_node('mod2',anonymous=True, disable_signals=False )\n",
    "    display(a,twoout)\n",
    "    #while (a.value=='modality 2'):\n",
    "    b1.on_click(ahead)\n",
    "    b2.on_click(back)\n",
    "    b3.on_click(stop)\n",
    "    b4.on_click(tl)\n",
    "    b5.on_click(tr)"
   ]
  },
  {
   "cell_type": "markdown",
   "id": "4d48cec1",
   "metadata": {},
   "source": [
    "third modality"
   ]
  },
  {
   "cell_type": "code",
   "execution_count": null,
   "id": "e20435dc",
   "metadata": {
    "ExecuteTime": {
     "end_time": "2022-05-25T16:01:06.320316Z",
     "start_time": "2022-05-25T16:01:06.260433Z"
    }
   },
   "outputs": [],
   "source": [
    "#widgets for the third mod\n",
    "b6 = widgets.Button(description='ahead',\n",
    "layout=Layout(width='auto', align=\"center\", grid_area='b6'),\n",
    "style=ButtonStyle(button_color='yellow'))\n",
    "b7 = widgets.Button(description='back',\n",
    "layout=Layout(width='auto', grid_area='b7'),\n",
    "style=ButtonStyle(button_color='yellow'))\n",
    "b8 = widgets.Button(description='stop',\n",
    "layout=Layout(width='auto', grid_area='b8'),\n",
    "style=ButtonStyle(button_color='yellow'))\n",
    "b9 = widgets.Button(description='turn left',\n",
    "layout=Layout(width='auto', grid_area='b9'),\n",
    "style=ButtonStyle(button_color='yellow'))\n",
    "b10 = widgets.Button(description='turn right',\n",
    "layout=Layout(width='auto', grid_area='b10'),\n",
    "style=ButtonStyle(button_color='yellow'))\n",
    "\n",
    "grid = GridBox(children=[b6, b7, b8, b9, b10],\n",
    "layout=Layout(\n",
    "width='40%',\n",
    "grid_template_rows='auto auto',\n",
    "grid_template_columns='33% 33% 33%',\n",
    "grid_template_areas='''\n",
    "\" . b10 . \"\n",
    "\"b7 b8 b6 \"\n",
    "\" . b9 . \"\n",
    "''')\n",
    ")\n",
    "\n",
    "threeout=widgets.Output()"
   ]
  },
  {
   "cell_type": "code",
   "execution_count": null,
   "id": "2b1701ce",
   "metadata": {
    "ExecuteTime": {
     "end_time": "2022-05-25T16:01:06.497447Z",
     "start_time": "2022-05-25T16:01:06.492723Z"
    }
   },
   "outputs": [],
   "source": [
    "#callbacks    \n",
    "def ViewCallback(msg):\n",
    "    global regions_\n",
    "    regions_ = {\n",
    "        'right':  min(min(msg.ranges[0:143]), 10),\n",
    "        'fright': min(min(msg.ranges[144:287]), 10),\n",
    "        'front':  min(min(msg.ranges[288:431]), 10),\n",
    "        'fleft':  min(min(msg.ranges[432:575]), 10),\n",
    "        'left':   min(min(msg.ranges[576:719]), 10),\n",
    "    }"
   ]
  },
  {
   "cell_type": "code",
   "execution_count": null,
   "id": "85335f7f",
   "metadata": {
    "ExecuteTime": {
     "end_time": "2022-05-25T16:01:06.680921Z",
     "start_time": "2022-05-25T16:01:06.663246Z"
    }
   },
   "outputs": [],
   "source": [
    "#assisted collision avoidance\n",
    "def action():\n",
    "    global regions_ , linear , angular\n",
    "    if (regions_['right']< 0.2 and angular < 0.0):\n",
    "        vel2.angular.z=0.0\n",
    "        vel2.linear.x =linear\n",
    "        print(\"I can't turn this way\")\n",
    "        pub2.publish(vel2)\n",
    "        \n",
    "            \n",
    "    if (regions_['right']<0.2 and angular>0.0):\n",
    "        vel2.angular.z = angular\n",
    "        vel2.linear.x = linear\n",
    "        pub2.publish(vel2)\n",
    "        \n",
    "        \n",
    "    if (regions_['fright']< 0.1 and angular <0.0):\n",
    "        vel2.angular.z=0.0\n",
    "        vel2.linear.x = linear\n",
    "        print(\"I can't turn this way\")\n",
    "        pub2.publish(vel2)\n",
    "        \n",
    "        \n",
    "    if (regions_['fright']<0.1 and angular>0.0):\n",
    "        vel2.angular.z = angular\n",
    "        vel2.linear.x = linear\n",
    "        pub2.publish(vel2)\n",
    "        \n",
    "        \n",
    "    if (regions_['front']< 0.2 and linear > 0.0):\n",
    "        vel2.linear.x=0.0\n",
    "        vel2.angular.z = angular\n",
    "        print(\"I can't go this way\")\n",
    "        pub2.publish(vel2)\n",
    "        \n",
    "        \n",
    "    if (regions_['fleft']< 0.1 and angular > 0.0):\n",
    "        vel2.angular.z=0.0\n",
    "        vel2.linear.x = linear\n",
    "        print(\"I can't turn this way\")\n",
    "        pub2.publish(vel2)\n",
    "        \n",
    "        \n",
    "    if (regions_['fleft']<0.1 and angular<0.0):\n",
    "        vel2.angular.z = angular\n",
    "        vel2.linear.x = linear\n",
    "        pub2.publish(vel2)\n",
    "       \n",
    "        \n",
    "    if (regions_['left']< 0.2 and angular > 0.0):\n",
    "        vel2.angular.z=0.0\n",
    "        vel2.linear.x = linear\n",
    "        print(\"I can't turn this way\")\n",
    "        pub2.publish(vel2)\n",
    "        \n",
    "        \n",
    "    if (regions_['right']<0.2 and angular<0.0):\n",
    "        vel2.angular.z = angular\n",
    "        vel2.linear.x = linear\n",
    "        pub2.publish(vel2)\n",
    "        \n",
    "        \n",
    "    elif (regions_['right']>0.2 and regions_['fright']>0.2 and regions_['front']>0.2 and regions_['fleft']>0.2 and regions_['left']>0.2):\n",
    "        vel2.angular.z = angular\n",
    "        vel2.linear.x = linear\n",
    "        print(\"it's ok\")\n",
    "        pub2.publish(vel2)\n",
    "        \n",
    "    "
   ]
  },
  {
   "cell_type": "code",
   "execution_count": null,
   "id": "f5b3f655",
   "metadata": {
    "ExecuteTime": {
     "end_time": "2022-05-25T16:01:06.882676Z",
     "start_time": "2022-05-25T16:01:06.872134Z"
    }
   },
   "outputs": [],
   "source": [
    "#costant\n",
    "sub_scan=rospy.Subscriber('/scan', LaserScan, ViewCallback)\n",
    "\n",
    "regions_ = {\n",
    "    'right': 10,\n",
    "    'fright': 10,\n",
    "    'front': 10,\n",
    "    'fleft': 10,\n",
    "    'left': 10,\n",
    "}\n",
    "\n",
    "\n",
    "\n",
    "def VelocityCallback(msg):\n",
    "    global linear,angular\n",
    "    linear = msg.linear.x\n",
    "    angular = msg.angular.z\n",
    "    #print('okok')\n",
    "        \n",
    "\n",
    "            \n",
    "sub_vel2=rospy.Subscriber('/cmd_vel', Twist, VelocityCallback)\n",
    "pub2 = rospy.Publisher('/cmd_vel', Twist, queue_size=10)\n",
    "vel2=Twist()"
   ]
  },
  {
   "cell_type": "code",
   "execution_count": null,
   "id": "b5894f2b",
   "metadata": {
    "ExecuteTime": {
     "end_time": "2022-05-25T16:01:07.079474Z",
     "start_time": "2022-05-25T16:01:07.066670Z"
    }
   },
   "outputs": [],
   "source": [
    "#usage of the buttons\n",
    "def ahead2(b):\n",
    "    global linear, angular\n",
    "    with threeout:\n",
    "        print(\"ahead!\")\n",
    "        vel2.linear.x=linear+1\n",
    "        vel2.angular.z=0\n",
    "        pub2.publish(vel2)\n",
    "        action()\n",
    "        \n",
    "def back2(b):\n",
    "    global linear, angular\n",
    "    with threeout:\n",
    "        print(\"back!\")\n",
    "        vel2.linear.x=linear-1\n",
    "        vel2.angular.z=0\n",
    "        pub2.publish(vel2)\n",
    "        action()\n",
    "        \n",
    "def stop2(b):\n",
    "    global linear, angular\n",
    "    with threeout:\n",
    "        print(\"stop!\")\n",
    "        vel2.linear.x=0\n",
    "        vel2.angular.z=0\n",
    "        pub2.publish(vel2)\n",
    "        \n",
    "def tr2(b):\n",
    "    global linear, angular\n",
    "    with threeout:\n",
    "        print(\"turn right!\")\n",
    "        vel2.angular.z=angular-1\n",
    "        vel2.linear.x=0\n",
    "        pub2.publish(vel2)\n",
    "        action()\n",
    "        \n",
    "def tl2(b):\n",
    "    global linear, angular\n",
    "    with threeout:\n",
    "        print(\"turn left!\")\n",
    "        vel2.angular.z=angular+1\n",
    "        vel2.linear.x=0\n",
    "        pub2.publish(vel2)\n",
    "        action()"
   ]
  },
  {
   "cell_type": "code",
   "execution_count": null,
   "id": "59aa0f3f",
   "metadata": {
    "ExecuteTime": {
     "end_time": "2022-05-25T16:01:07.678311Z",
     "start_time": "2022-05-25T16:01:07.672217Z"
    }
   },
   "outputs": [],
   "source": [
    "#function for starting the third modality\n",
    "def thirdmod():\n",
    "    display(grid, threeout)\n",
    "    #rospy.init_node('modal3',anonymous=True, disable_signals=False )\n",
    "    b6.on_click(ahead2)\n",
    "    b7.on_click(back2)\n",
    "    b8.on_click(stop2)\n",
    "    b9.on_click(tl2)\n",
    "    b10.on_click(tr2)\n",
    "    "
   ]
  },
  {
   "cell_type": "markdown",
   "id": "f3eb64e6",
   "metadata": {},
   "source": [
    "to plot the way"
   ]
  },
  {
   "cell_type": "code",
   "execution_count": null,
   "id": "1127ca59",
   "metadata": {
    "ExecuteTime": {
     "end_time": "2022-05-25T13:46:35.091362Z",
     "start_time": "2022-05-25T13:46:35.083746Z"
    }
   },
   "outputs": [],
   "source": [
    "#class visualiser for taking the information from the subscriber \n",
    "class Visualiser:\n",
    "    def __init__(self, limit_on_x, fig_title):\n",
    "        self.fig, self.ax = plt.subplots()\n",
    "        self.ln, = plt.plot([], [], 'bo')\n",
    "        self.x_data, self.y_data = [] , []\n",
    "        self.x_limits=limit_on_x\n",
    "        self.ax.set_title(fig_title)\n",
    "        \n",
    "    def plot_init(self):\n",
    "        self.ax.set_xlim(-self.x_limits, self.x_limits)\n",
    "        self.ax.set_ylim(-10, 10)\n",
    "        return self.ln\n",
    "    \n",
    "    def odom_clbk(self, msg):\n",
    "        self.y_data.append(msg.pose.pose.position.y) #try the append on the scanner\n",
    "        self.x_data.append(msg.pose.pose.position.x)\n",
    "       \n",
    "    def laser_clbk(self, msg):\n",
    "        self.x_data = msg.ranges\n",
    "        self.y_data = msg.intensities        \n",
    "   \n",
    "    def refresh_plot(self, frame):\n",
    "        self.ln.set_data(self.x_data, self.y_data)\n",
    "        return self.ln"
   ]
  },
  {
   "cell_type": "code",
   "execution_count": null,
   "id": "992a44f2",
   "metadata": {
    "ExecuteTime": {
     "end_time": "2022-05-25T13:48:31.528455Z",
     "start_time": "2022-05-25T13:48:31.460820Z"
    }
   },
   "outputs": [],
   "source": [
    "#command for plotting the path\n",
    "vis = Visualiser(4, 'position')\n",
    "sub_odom = rospy.Subscriber('/odom', Odometry, vis.odom_clbk)\n",
    "ani = FuncAnimation(vis.fig, vis.refresh_plot, init_func=vis.plot_init)\n",
    "plt.show(block=True)"
   ]
  },
  {
   "cell_type": "markdown",
   "id": "18639929",
   "metadata": {},
   "source": [
    "for plotting the laser scanner"
   ]
  },
  {
   "cell_type": "code",
   "execution_count": null,
   "id": "a66dbb0e",
   "metadata": {
    "ExecuteTime": {
     "end_time": "2022-05-25T13:48:57.706793Z",
     "start_time": "2022-05-25T13:48:57.652762Z"
    },
    "scrolled": false
   },
   "outputs": [],
   "source": [
    "#command for plotting the laser scanner \n",
    "vis_scan = Visualiser(10, 'scanner')\n",
    "sub_scan = rospy.Subscriber('/scan', LaserScan, vis_scan.laser_clbk)\n",
    "ani2 = FuncAnimation(vis_scan.fig, vis_scan.refresh_plot, init_func=vis_scan.plot_init)\n",
    "plt.show(block=True)"
   ]
  },
  {
   "cell_type": "markdown",
   "id": "57c86bc7",
   "metadata": {},
   "source": [
    "for having the plot of the reached or non reached position"
   ]
  },
  {
   "cell_type": "code",
   "execution_count": 18,
   "id": "6524fee7",
   "metadata": {
    "ExecuteTime": {
     "end_time": "2022-05-25T16:56:13.676282Z",
     "start_time": "2022-05-25T16:56:13.667680Z"
    }
   },
   "outputs": [],
   "source": [
    "#class analysis for taking the value that I stored before\n",
    "reached_points = []\n",
    "\n",
    "class Analysis:\n",
    "    global rc,nrc\n",
    "    def __init__(self):\n",
    "        self.fig, self.ax = plt.subplots()\n",
    "        self.y_data = [0.05,0.05] \n",
    "        self.labels = ['reached', 'non reached'] \n",
    "        self.bar = self.ax.bar(self.labels, self.y_data, color = 'bo', width = 0.3)\n",
    "        self.ax.set_ylim(top = 10)\n",
    "        self.ax.set_title('verification of functionality for the first modality')\n",
    "    \n",
    "    def objective_clbk(self):\n",
    "        if rc>0:\n",
    "            self.y_data[0]=rc\n",
    "        if nrc>0 :\n",
    "            self.y_data[1]=nrc\n",
    "            \n",
    "    def animate(self, frame):\n",
    "        index = self.y_data[frame]\n",
    "        self.bar[frame].set_height(index)"
   ]
  },
  {
   "cell_type": "code",
   "execution_count": 17,
   "id": "29ae0cd7",
   "metadata": {
    "ExecuteTime": {
     "end_time": "2022-05-25T16:53:25.818878Z",
     "start_time": "2022-05-25T16:53:25.740766Z"
    },
    "scrolled": true
   },
   "outputs": [
    {
     "data": {
      "application/vnd.jupyter.widget-view+json": {
       "model_id": "b65784ef1d19450ea1b9d791f24f1f68",
       "version_major": 2,
       "version_minor": 0
      },
      "text/plain": [
       "Canvas(toolbar=Toolbar(toolitems=[('Home', 'Reset original view', 'home', 'home'), ('Back', 'Back to previous …"
      ]
     },
     "metadata": {},
     "output_type": "display_data"
    }
   ],
   "source": [
    "#for plotting the number of reached/non reached position\n",
    "analysis= Analysis()\n",
    "analysis.objective_clbk()\n",
    "ani3 = FuncAnimation(analysis.fig, analysis.animate, frames=2)\n",
    "plt.show(block=True)"
   ]
  },
  {
   "cell_type": "code",
   "execution_count": null,
   "id": "ced61259",
   "metadata": {},
   "outputs": [],
   "source": []
  }
 ],
 "metadata": {
  "hide_input": false,
  "kernelspec": {
   "display_name": "Python 3 (ipykernel)",
   "language": "python",
   "name": "python3"
  },
  "language_info": {
   "codemirror_mode": {
    "name": "ipython",
    "version": 3
   },
   "file_extension": ".py",
   "mimetype": "text/x-python",
   "name": "python",
   "nbconvert_exporter": "python",
   "pygments_lexer": "ipython3",
   "version": "3.8.5"
  },
  "toc": {
   "base_numbering": 1,
   "nav_menu": {},
   "number_sections": true,
   "sideBar": true,
   "skip_h1_title": false,
   "title_cell": "Table of Contents",
   "title_sidebar": "Contents",
   "toc_cell": false,
   "toc_position": {},
   "toc_section_display": true,
   "toc_window_display": false
  },
  "varInspector": {
   "cols": {
    "lenName": 16,
    "lenType": 16,
    "lenVar": 40
   },
   "kernels_config": {
    "python": {
     "delete_cmd_postfix": "",
     "delete_cmd_prefix": "del ",
     "library": "var_list.py",
     "varRefreshCmd": "print(var_dic_list())"
    },
    "r": {
     "delete_cmd_postfix": ") ",
     "delete_cmd_prefix": "rm(",
     "library": "var_list.r",
     "varRefreshCmd": "cat(var_dic_list()) "
    }
   },
   "types_to_exclude": [
    "module",
    "function",
    "builtin_function_or_method",
    "instance",
    "_Feature"
   ],
   "window_display": false
  }
 },
 "nbformat": 4,
 "nbformat_minor": 5
}
